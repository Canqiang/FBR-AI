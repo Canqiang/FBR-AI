{
 "cells": [
  {
   "cell_type": "code",
   "execution_count": 2,
   "id": "36ad2c2bc8bb697",
   "metadata": {
    "ExecuteTime": {
     "end_time": "2025-08-01T07:22:54.253045Z",
     "start_time": "2025-08-01T07:22:41.480430Z"
    }
   },
   "outputs": [
    {
     "name": "stdout",
     "output_type": "stream",
     "text": [
      "============================================================\n",
      "运行完整分析（DoWhy + EconML）...\n",
      "============================================================\n",
      "\n",
      "=== 促销活动因果效应分析 (DoWhy) ===\n",
      "\n",
      "识别的因果效应:\n",
      " Estimand type: EstimandType.NONPARAMETRIC_ATE\n",
      "\n",
      "### Estimand : 1\n",
      "Estimand name: backdoor\n",
      "Estimand expression:\n",
      "       d                                                               \n",
      "───────────────(E[total_revenue|day_of_week,is_weekend,loyalty_orders])\n",
      "d[hasₚᵣₒₘₒₜᵢₒₙ]                                                        \n",
      "Estimand assumption 1, Unconfoundedness: If U→{has_promotion} and U→total_revenue then P(total_revenue|has_promotion,day_of_week,is_weekend,loyalty_orders,U) = P(total_revenue|has_promotion,day_of_week,is_weekend,loyalty_orders)\n",
      "\n",
      "### Estimand : 2\n",
      "Estimand name: iv\n",
      "Estimand expression:\n",
      " ⎡                                                                 -1⎤\n",
      " ⎢       d                       ⎛       d                        ⎞  ⎥\n",
      "E⎢────────────────(totalᵣₑᵥₑₙᵤₑ)⋅⎜────────────────([hasₚᵣₒₘₒₜᵢₒₙ])⎟  ⎥\n",
      " ⎣d[is_member_day]               ⎝d[is_member_day]                ⎠  ⎦\n",
      "Estimand assumption 1, As-if-random: If U→→total_revenue then ¬(U →→{is_member_day})\n",
      "Estimand assumption 2, Exclusion: If we remove {is_member_day}→{has_promotion}, then ¬({is_member_day}→total_revenue)\n",
      "\n",
      "### Estimand : 3\n",
      "Estimand name: frontdoor\n",
      "No such variable(s) found!\n",
      "\n",
      "### Estimand : 4\n",
      "Estimand name: general_adjustment\n",
      "Estimand expression:\n",
      "       d                                                               \n",
      "───────────────(E[total_revenue|loyalty_orders,day_of_week,is_weekend])\n",
      "d[hasₚᵣₒₘₒₜᵢₒₙ]                                                        \n",
      "Estimand assumption 1, Unconfoundedness: If U→{has_promotion} and U→total_revenue then P(total_revenue|has_promotion,loyalty_orders,day_of_week,is_weekend,U) = P(total_revenue|has_promotion,loyalty_orders,day_of_week,is_weekend)\n",
      "\n",
      "倾向得分匹配估计: 62.94\n",
      "线性回归估计: 67.28\n",
      "工具变量估计: 611.58\n",
      "\n",
      "=== 反事实推断 (基于线性模型) ===\n",
      "当前平均营收        : $224.33\n",
      "全部促销 反事实营收 : $224.33  (+ 0.0%)\n",
      "全部停促销反事实营收: $224.33  ( 0.0% ↓)\n",
      "\n",
      "=== 促销活动因果效应分析 (EconML) ===\n",
      "\n",
      "CausalForest ATE: $12.70\n",
      "\n",
      "=== 反事实推断 (EconML) ===\n",
      "当前平均营收        : $225.33\n",
      "全部促销 反事实营收 : $228.16  (+ 1.3%)\n",
      "全部停促销反事实营收: $215.46  ( 4.4% ↓)\n"
     ]
    },
    {
     "data": {
      "application/vnd.plotly.v1+json": {
       "config": {
        "plotlyServerURL": "https://plot.ly"
       },
       "data": [
        {
         "text": [
          "$63",
          "$67",
          "$612",
          "$13"
         ],
         "textposition": "auto",
         "type": "bar",
         "x": [
          "PSM",
          "LinearRegression",
          "IV",
          "CausalForest"
         ],
         "y": [
          62.94,
          67.28,
          611.58,
          12.696875155183307
         ]
        }
       ],
       "layout": {
        "template": {
         "data": {
          "bar": [
           {
            "error_x": {
             "color": "#f2f5fa"
            },
            "error_y": {
             "color": "#f2f5fa"
            },
            "marker": {
             "line": {
              "color": "rgb(17,17,17)",
              "width": 0.5
             },
             "pattern": {
              "fillmode": "overlay",
              "size": 10,
              "solidity": 0.2
             }
            },
            "type": "bar"
           }
          ],
          "barpolar": [
           {
            "marker": {
             "line": {
              "color": "rgb(17,17,17)",
              "width": 0.5
             },
             "pattern": {
              "fillmode": "overlay",
              "size": 10,
              "solidity": 0.2
             }
            },
            "type": "barpolar"
           }
          ],
          "carpet": [
           {
            "aaxis": {
             "endlinecolor": "#A2B1C6",
             "gridcolor": "#506784",
             "linecolor": "#506784",
             "minorgridcolor": "#506784",
             "startlinecolor": "#A2B1C6"
            },
            "baxis": {
             "endlinecolor": "#A2B1C6",
             "gridcolor": "#506784",
             "linecolor": "#506784",
             "minorgridcolor": "#506784",
             "startlinecolor": "#A2B1C6"
            },
            "type": "carpet"
           }
          ],
          "choropleth": [
           {
            "colorbar": {
             "outlinewidth": 0,
             "ticks": ""
            },
            "type": "choropleth"
           }
          ],
          "contour": [
           {
            "colorbar": {
             "outlinewidth": 0,
             "ticks": ""
            },
            "colorscale": [
             [
              0,
              "#0d0887"
             ],
             [
              0.1111111111111111,
              "#46039f"
             ],
             [
              0.2222222222222222,
              "#7201a8"
             ],
             [
              0.3333333333333333,
              "#9c179e"
             ],
             [
              0.4444444444444444,
              "#bd3786"
             ],
             [
              0.5555555555555556,
              "#d8576b"
             ],
             [
              0.6666666666666666,
              "#ed7953"
             ],
             [
              0.7777777777777778,
              "#fb9f3a"
             ],
             [
              0.8888888888888888,
              "#fdca26"
             ],
             [
              1,
              "#f0f921"
             ]
            ],
            "type": "contour"
           }
          ],
          "contourcarpet": [
           {
            "colorbar": {
             "outlinewidth": 0,
             "ticks": ""
            },
            "type": "contourcarpet"
           }
          ],
          "heatmap": [
           {
            "colorbar": {
             "outlinewidth": 0,
             "ticks": ""
            },
            "colorscale": [
             [
              0,
              "#0d0887"
             ],
             [
              0.1111111111111111,
              "#46039f"
             ],
             [
              0.2222222222222222,
              "#7201a8"
             ],
             [
              0.3333333333333333,
              "#9c179e"
             ],
             [
              0.4444444444444444,
              "#bd3786"
             ],
             [
              0.5555555555555556,
              "#d8576b"
             ],
             [
              0.6666666666666666,
              "#ed7953"
             ],
             [
              0.7777777777777778,
              "#fb9f3a"
             ],
             [
              0.8888888888888888,
              "#fdca26"
             ],
             [
              1,
              "#f0f921"
             ]
            ],
            "type": "heatmap"
           }
          ],
          "histogram": [
           {
            "marker": {
             "pattern": {
              "fillmode": "overlay",
              "size": 10,
              "solidity": 0.2
             }
            },
            "type": "histogram"
           }
          ],
          "histogram2d": [
           {
            "colorbar": {
             "outlinewidth": 0,
             "ticks": ""
            },
            "colorscale": [
             [
              0,
              "#0d0887"
             ],
             [
              0.1111111111111111,
              "#46039f"
             ],
             [
              0.2222222222222222,
              "#7201a8"
             ],
             [
              0.3333333333333333,
              "#9c179e"
             ],
             [
              0.4444444444444444,
              "#bd3786"
             ],
             [
              0.5555555555555556,
              "#d8576b"
             ],
             [
              0.6666666666666666,
              "#ed7953"
             ],
             [
              0.7777777777777778,
              "#fb9f3a"
             ],
             [
              0.8888888888888888,
              "#fdca26"
             ],
             [
              1,
              "#f0f921"
             ]
            ],
            "type": "histogram2d"
           }
          ],
          "histogram2dcontour": [
           {
            "colorbar": {
             "outlinewidth": 0,
             "ticks": ""
            },
            "colorscale": [
             [
              0,
              "#0d0887"
             ],
             [
              0.1111111111111111,
              "#46039f"
             ],
             [
              0.2222222222222222,
              "#7201a8"
             ],
             [
              0.3333333333333333,
              "#9c179e"
             ],
             [
              0.4444444444444444,
              "#bd3786"
             ],
             [
              0.5555555555555556,
              "#d8576b"
             ],
             [
              0.6666666666666666,
              "#ed7953"
             ],
             [
              0.7777777777777778,
              "#fb9f3a"
             ],
             [
              0.8888888888888888,
              "#fdca26"
             ],
             [
              1,
              "#f0f921"
             ]
            ],
            "type": "histogram2dcontour"
           }
          ],
          "mesh3d": [
           {
            "colorbar": {
             "outlinewidth": 0,
             "ticks": ""
            },
            "type": "mesh3d"
           }
          ],
          "parcoords": [
           {
            "line": {
             "colorbar": {
              "outlinewidth": 0,
              "ticks": ""
             }
            },
            "type": "parcoords"
           }
          ],
          "pie": [
           {
            "automargin": true,
            "type": "pie"
           }
          ],
          "scatter": [
           {
            "marker": {
             "line": {
              "color": "#283442"
             }
            },
            "type": "scatter"
           }
          ],
          "scatter3d": [
           {
            "line": {
             "colorbar": {
              "outlinewidth": 0,
              "ticks": ""
             }
            },
            "marker": {
             "colorbar": {
              "outlinewidth": 0,
              "ticks": ""
             }
            },
            "type": "scatter3d"
           }
          ],
          "scattercarpet": [
           {
            "marker": {
             "colorbar": {
              "outlinewidth": 0,
              "ticks": ""
             }
            },
            "type": "scattercarpet"
           }
          ],
          "scattergeo": [
           {
            "marker": {
             "colorbar": {
              "outlinewidth": 0,
              "ticks": ""
             }
            },
            "type": "scattergeo"
           }
          ],
          "scattergl": [
           {
            "marker": {
             "line": {
              "color": "#283442"
             }
            },
            "type": "scattergl"
           }
          ],
          "scattermap": [
           {
            "marker": {
             "colorbar": {
              "outlinewidth": 0,
              "ticks": ""
             }
            },
            "type": "scattermap"
           }
          ],
          "scattermapbox": [
           {
            "marker": {
             "colorbar": {
              "outlinewidth": 0,
              "ticks": ""
             }
            },
            "type": "scattermapbox"
           }
          ],
          "scatterpolar": [
           {
            "marker": {
             "colorbar": {
              "outlinewidth": 0,
              "ticks": ""
             }
            },
            "type": "scatterpolar"
           }
          ],
          "scatterpolargl": [
           {
            "marker": {
             "colorbar": {
              "outlinewidth": 0,
              "ticks": ""
             }
            },
            "type": "scatterpolargl"
           }
          ],
          "scatterternary": [
           {
            "marker": {
             "colorbar": {
              "outlinewidth": 0,
              "ticks": ""
             }
            },
            "type": "scatterternary"
           }
          ],
          "surface": [
           {
            "colorbar": {
             "outlinewidth": 0,
             "ticks": ""
            },
            "colorscale": [
             [
              0,
              "#0d0887"
             ],
             [
              0.1111111111111111,
              "#46039f"
             ],
             [
              0.2222222222222222,
              "#7201a8"
             ],
             [
              0.3333333333333333,
              "#9c179e"
             ],
             [
              0.4444444444444444,
              "#bd3786"
             ],
             [
              0.5555555555555556,
              "#d8576b"
             ],
             [
              0.6666666666666666,
              "#ed7953"
             ],
             [
              0.7777777777777778,
              "#fb9f3a"
             ],
             [
              0.8888888888888888,
              "#fdca26"
             ],
             [
              1,
              "#f0f921"
             ]
            ],
            "type": "surface"
           }
          ],
          "table": [
           {
            "cells": {
             "fill": {
              "color": "#506784"
             },
             "line": {
              "color": "rgb(17,17,17)"
             }
            },
            "header": {
             "fill": {
              "color": "#2a3f5f"
             },
             "line": {
              "color": "rgb(17,17,17)"
             }
            },
            "type": "table"
           }
          ]
         },
         "layout": {
          "annotationdefaults": {
           "arrowcolor": "#f2f5fa",
           "arrowhead": 0,
           "arrowwidth": 1
          },
          "autotypenumbers": "strict",
          "coloraxis": {
           "colorbar": {
            "outlinewidth": 0,
            "ticks": ""
           }
          },
          "colorscale": {
           "diverging": [
            [
             0,
             "#8e0152"
            ],
            [
             0.1,
             "#c51b7d"
            ],
            [
             0.2,
             "#de77ae"
            ],
            [
             0.3,
             "#f1b6da"
            ],
            [
             0.4,
             "#fde0ef"
            ],
            [
             0.5,
             "#f7f7f7"
            ],
            [
             0.6,
             "#e6f5d0"
            ],
            [
             0.7,
             "#b8e186"
            ],
            [
             0.8,
             "#7fbc41"
            ],
            [
             0.9,
             "#4d9221"
            ],
            [
             1,
             "#276419"
            ]
           ],
           "sequential": [
            [
             0,
             "#0d0887"
            ],
            [
             0.1111111111111111,
             "#46039f"
            ],
            [
             0.2222222222222222,
             "#7201a8"
            ],
            [
             0.3333333333333333,
             "#9c179e"
            ],
            [
             0.4444444444444444,
             "#bd3786"
            ],
            [
             0.5555555555555556,
             "#d8576b"
            ],
            [
             0.6666666666666666,
             "#ed7953"
            ],
            [
             0.7777777777777778,
             "#fb9f3a"
            ],
            [
             0.8888888888888888,
             "#fdca26"
            ],
            [
             1,
             "#f0f921"
            ]
           ],
           "sequentialminus": [
            [
             0,
             "#0d0887"
            ],
            [
             0.1111111111111111,
             "#46039f"
            ],
            [
             0.2222222222222222,
             "#7201a8"
            ],
            [
             0.3333333333333333,
             "#9c179e"
            ],
            [
             0.4444444444444444,
             "#bd3786"
            ],
            [
             0.5555555555555556,
             "#d8576b"
            ],
            [
             0.6666666666666666,
             "#ed7953"
            ],
            [
             0.7777777777777778,
             "#fb9f3a"
            ],
            [
             0.8888888888888888,
             "#fdca26"
            ],
            [
             1,
             "#f0f921"
            ]
           ]
          },
          "colorway": [
           "#636efa",
           "#EF553B",
           "#00cc96",
           "#ab63fa",
           "#FFA15A",
           "#19d3f3",
           "#FF6692",
           "#B6E880",
           "#FF97FF",
           "#FECB52"
          ],
          "font": {
           "color": "#f2f5fa"
          },
          "geo": {
           "bgcolor": "rgb(17,17,17)",
           "lakecolor": "rgb(17,17,17)",
           "landcolor": "rgb(17,17,17)",
           "showlakes": true,
           "showland": true,
           "subunitcolor": "#506784"
          },
          "hoverlabel": {
           "align": "left"
          },
          "hovermode": "closest",
          "mapbox": {
           "style": "dark"
          },
          "paper_bgcolor": "rgb(17,17,17)",
          "plot_bgcolor": "rgb(17,17,17)",
          "polar": {
           "angularaxis": {
            "gridcolor": "#506784",
            "linecolor": "#506784",
            "ticks": ""
           },
           "bgcolor": "rgb(17,17,17)",
           "radialaxis": {
            "gridcolor": "#506784",
            "linecolor": "#506784",
            "ticks": ""
           }
          },
          "scene": {
           "xaxis": {
            "backgroundcolor": "rgb(17,17,17)",
            "gridcolor": "#506784",
            "gridwidth": 2,
            "linecolor": "#506784",
            "showbackground": true,
            "ticks": "",
            "zerolinecolor": "#C8D4E3"
           },
           "yaxis": {
            "backgroundcolor": "rgb(17,17,17)",
            "gridcolor": "#506784",
            "gridwidth": 2,
            "linecolor": "#506784",
            "showbackground": true,
            "ticks": "",
            "zerolinecolor": "#C8D4E3"
           },
           "zaxis": {
            "backgroundcolor": "rgb(17,17,17)",
            "gridcolor": "#506784",
            "gridwidth": 2,
            "linecolor": "#506784",
            "showbackground": true,
            "ticks": "",
            "zerolinecolor": "#C8D4E3"
           }
          },
          "shapedefaults": {
           "line": {
            "color": "#f2f5fa"
           }
          },
          "sliderdefaults": {
           "bgcolor": "#C8D4E3",
           "bordercolor": "rgb(17,17,17)",
           "borderwidth": 1,
           "tickwidth": 0
          },
          "ternary": {
           "aaxis": {
            "gridcolor": "#506784",
            "linecolor": "#506784",
            "ticks": ""
           },
           "baxis": {
            "gridcolor": "#506784",
            "linecolor": "#506784",
            "ticks": ""
           },
           "bgcolor": "rgb(17,17,17)",
           "caxis": {
            "gridcolor": "#506784",
            "linecolor": "#506784",
            "ticks": ""
           }
          },
          "title": {
           "x": 0.05
          },
          "updatemenudefaults": {
           "bgcolor": "#506784",
           "borderwidth": 0
          },
          "xaxis": {
           "automargin": true,
           "gridcolor": "#283442",
           "linecolor": "#506784",
           "ticks": "",
           "title": {
            "standoff": 15
           },
           "zerolinecolor": "#283442",
           "zerolinewidth": 2
          },
          "yaxis": {
           "automargin": true,
           "gridcolor": "#283442",
           "linecolor": "#506784",
           "ticks": "",
           "title": {
            "standoff": 15
           },
           "zerolinecolor": "#283442",
           "zerolinewidth": 2
          }
         }
        },
        "title": {
         "text": "促销因果效应估计对比 (DoWhy vs EconML)"
        },
        "yaxis": {
         "title": {
          "text": "平均因果效应 ($)"
         }
        }
       }
      },
      "image/png": "[encoded data removed]"
     },
     "metadata": {},
     "output_type": "display_data"
    },
    {
     "data": {
      "application/vnd.plotly.v1+json": {
       "config": {
        "plotlyServerURL": "https://plot.ly"
       },
       "data": [
        {
         "marker": {
          "color": [
           "blue",
           "green",
           "red"
          ]
         },
         "text": [
          "$225",
          "$228",
          "$215"
         ],
         "textposition": "auto",
         "type": "bar",
         "x": [
          "当前实际",
          "全部促销",
          "全部不促销"
         ],
         "y": [
          225.33421279654925,
          228.1608469979079,
          215.4639718427246
         ]
        }
       ],
       "layout": {
        "template": {
         "data": {
          "bar": [
           {
            "error_x": {
             "color": "#f2f5fa"
            },
            "error_y": {
             "color": "#f2f5fa"
            },
            "marker": {
             "line": {
              "color": "rgb(17,17,17)",
              "width": 0.5
             },
             "pattern": {
              "fillmode": "overlay",
              "size": 10,
              "solidity": 0.2
             }
            },
            "type": "bar"
           }
          ],
          "barpolar": [
           {
            "marker": {
             "line": {
              "color": "rgb(17,17,17)",
              "width": 0.5
             },
             "pattern": {
              "fillmode": "overlay",
              "size": 10,
              "solidity": 0.2
             }
            },
            "type": "barpolar"
           }
          ],
          "carpet": [
           {
            "aaxis": {
             "endlinecolor": "#A2B1C6",
             "gridcolor": "#506784",
             "linecolor": "#506784",
             "minorgridcolor": "#506784",
             "startlinecolor": "#A2B1C6"
            },
            "baxis": {
             "endlinecolor": "#A2B1C6",
             "gridcolor": "#506784",
             "linecolor": "#506784",
             "minorgridcolor": "#506784",
             "startlinecolor": "#A2B1C6"
            },
            "type": "carpet"
           }
          ],
          "choropleth": [
           {
            "colorbar": {
             "outlinewidth": 0,
             "ticks": ""
            },
            "type": "choropleth"
           }
          ],
          "contour": [
           {
            "colorbar": {
             "outlinewidth": 0,
             "ticks": ""
            },
            "colorscale": [
             [
              0,
              "#0d0887"
             ],
             [
              0.1111111111111111,
              "#46039f"
             ],
             [
              0.2222222222222222,
              "#7201a8"
             ],
             [
              0.3333333333333333,
              "#9c179e"
             ],
             [
              0.4444444444444444,
              "#bd3786"
             ],
             [
              0.5555555555555556,
              "#d8576b"
             ],
             [
              0.6666666666666666,
              "#ed7953"
             ],
             [
              0.7777777777777778,
              "#fb9f3a"
             ],
             [
              0.8888888888888888,
              "#fdca26"
             ],
             [
              1,
              "#f0f921"
             ]
            ],
            "type": "contour"
           }
          ],
          "contourcarpet": [
           {
            "colorbar": {
             "outlinewidth": 0,
             "ticks": ""
            },
            "type": "contourcarpet"
           }
          ],
          "heatmap": [
           {
            "colorbar": {
             "outlinewidth": 0,
             "ticks": ""
            },
            "colorscale": [
             [
              0,
              "#0d0887"
             ],
             [
              0.1111111111111111,
              "#46039f"
             ],
             [
              0.2222222222222222,
              "#7201a8"
             ],
             [
              0.3333333333333333,
              "#9c179e"
             ],
             [
              0.4444444444444444,
              "#bd3786"
             ],
             [
              0.5555555555555556,
              "#d8576b"
             ],
             [
              0.6666666666666666,
              "#ed7953"
             ],
             [
              0.7777777777777778,
              "#fb9f3a"
             ],
             [
              0.8888888888888888,
              "#fdca26"
             ],
             [
              1,
              "#f0f921"
             ]
            ],
            "type": "heatmap"
           }
          ],
          "histogram": [
           {
            "marker": {
             "pattern": {
              "fillmode": "overlay",
              "size": 10,
              "solidity": 0.2
             }
            },
            "type": "histogram"
           }
          ],
          "histogram2d": [
           {
            "colorbar": {
             "outlinewidth": 0,
             "ticks": ""
            },
            "colorscale": [
             [
              0,
              "#0d0887"
             ],
             [
              0.1111111111111111,
              "#46039f"
             ],
             [
              0.2222222222222222,
              "#7201a8"
             ],
             [
              0.3333333333333333,
              "#9c179e"
             ],
             [
              0.4444444444444444,
              "#bd3786"
             ],
             [
              0.5555555555555556,
              "#d8576b"
             ],
             [
              0.6666666666666666,
              "#ed7953"
             ],
             [
              0.7777777777777778,
              "#fb9f3a"
             ],
             [
              0.8888888888888888,
              "#fdca26"
             ],
             [
              1,
              "#f0f921"
             ]
            ],
            "type": "histogram2d"
           }
          ],
          "histogram2dcontour": [
           {
            "colorbar": {
             "outlinewidth": 0,
             "ticks": ""
            },
            "colorscale": [
             [
              0,
              "#0d0887"
             ],
             [
              0.1111111111111111,
              "#46039f"
             ],
             [
              0.2222222222222222,
              "#7201a8"
             ],
             [
              0.3333333333333333,
              "#9c179e"
             ],
             [
              0.4444444444444444,
              "#bd3786"
             ],
             [
              0.5555555555555556,
              "#d8576b"
             ],
             [
              0.6666666666666666,
              "#ed7953"
             ],
             [
              0.7777777777777778,
              "#fb9f3a"
             ],
             [
              0.8888888888888888,
              "#fdca26"
             ],
             [
              1,
              "#f0f921"
             ]
            ],
            "type": "histogram2dcontour"
           }
          ],
          "mesh3d": [
           {
            "colorbar": {
             "outlinewidth": 0,
             "ticks": ""
            },
            "type": "mesh3d"
           }
          ],
          "parcoords": [
           {
            "line": {
             "colorbar": {
              "outlinewidth": 0,
              "ticks": ""
             }
            },
            "type": "parcoords"
           }
          ],
          "pie": [
           {
            "automargin": true,
            "type": "pie"
           }
          ],
          "scatter": [
           {
            "marker": {
             "line": {
              "color": "#283442"
             }
            },
            "type": "scatter"
           }
          ],
          "scatter3d": [
           {
            "line": {
             "colorbar": {
              "outlinewidth": 0,
              "ticks": ""
             }
            },
            "marker": {
             "colorbar": {
              "outlinewidth": 0,
              "ticks": ""
             }
            },
            "type": "scatter3d"
           }
          ],
          "scattercarpet": [
           {
            "marker": {
             "colorbar": {
              "outlinewidth": 0,
              "ticks": ""
             }
            },
            "type": "scattercarpet"
           }
          ],
          "scattergeo": [
           {
            "marker": {
             "colorbar": {
              "outlinewidth": 0,
              "ticks": ""
             }
            },
            "type": "scattergeo"
           }
          ],
          "scattergl": [
           {
            "marker": {
             "line": {
              "color": "#283442"
             }
            },
            "type": "scattergl"
           }
          ],
          "scattermap": [
           {
            "marker": {
             "colorbar": {
              "outlinewidth": 0,
              "ticks": ""
             }
            },
            "type": "scattermap"
           }
          ],
          "scattermapbox": [
           {
            "marker": {
             "colorbar": {
              "outlinewidth": 0,
              "ticks": ""
             }
            },
            "type": "scattermapbox"
           }
          ],
          "scatterpolar": [
           {
            "marker": {
             "colorbar": {
              "outlinewidth": 0,
              "ticks": ""
             }
            },
            "type": "scatterpolar"
           }
          ],
          "scatterpolargl": [
           {
            "marker": {
             "colorbar": {
              "outlinewidth": 0,
              "ticks": ""
             }
            },
            "type": "scatterpolargl"
           }
          ],
          "scatterternary": [
           {
            "marker": {
             "colorbar": {
              "outlinewidth": 0,
              "ticks": ""
             }
            },
            "type": "scatterternary"
           }
          ],
          "surface": [
           {
            "colorbar": {
             "outlinewidth": 0,
             "ticks": ""
            },
            "colorscale": [
             [
              0,
              "#0d0887"
             ],
             [
              0.1111111111111111,
              "#46039f"
             ],
             [
              0.2222222222222222,
              "#7201a8"
             ],
             [
              0.3333333333333333,
              "#9c179e"
             ],
             [
              0.4444444444444444,
              "#bd3786"
             ],
             [
              0.5555555555555556,
              "#d8576b"
             ],
             [
              0.6666666666666666,
              "#ed7953"
             ],
             [
              0.7777777777777778,
              "#fb9f3a"
             ],
             [
              0.8888888888888888,
              "#fdca26"
             ],
             [
              1,
              "#f0f921"
             ]
            ],
            "type": "surface"
           }
          ],
          "table": [
           {
            "cells": {
             "fill": {
              "color": "#506784"
             },
             "line": {
              "color": "rgb(17,17,17)"
             }
            },
            "header": {
             "fill": {
              "color": "#2a3f5f"
             },
             "line": {
              "color": "rgb(17,17,17)"
             }
            },
            "type": "table"
           }
          ]
         },
         "layout": {
          "annotationdefaults": {
           "arrowcolor": "#f2f5fa",
           "arrowhead": 0,
           "arrowwidth": 1
          },
          "autotypenumbers": "strict",
          "coloraxis": {
           "colorbar": {
            "outlinewidth": 0,
            "ticks": ""
           }
          },
          "colorscale": {
           "diverging": [
            [
             0,
             "#8e0152"
            ],
            [
             0.1,
             "#c51b7d"
            ],
            [
             0.2,
             "#de77ae"
            ],
            [
             0.3,
             "#f1b6da"
            ],
            [
             0.4,
             "#fde0ef"
            ],
            [
             0.5,
             "#f7f7f7"
            ],
            [
             0.6,
             "#e6f5d0"
            ],
            [
             0.7,
             "#b8e186"
            ],
            [
             0.8,
             "#7fbc41"
            ],
            [
             0.9,
             "#4d9221"
            ],
            [
             1,
             "#276419"
            ]
           ],
           "sequential": [
            [
             0,
             "#0d0887"
            ],
            [
             0.1111111111111111,
             "#46039f"
            ],
            [
             0.2222222222222222,
             "#7201a8"
            ],
            [
             0.3333333333333333,
             "#9c179e"
            ],
            [
             0.4444444444444444,
             "#bd3786"
            ],
            [
             0.5555555555555556,
             "#d8576b"
            ],
            [
             0.6666666666666666,
             "#ed7953"
            ],
            [
             0.7777777777777778,
             "#fb9f3a"
            ],
            [
             0.8888888888888888,
             "#fdca26"
            ],
            [
             1,
             "#f0f921"
            ]
           ],
           "sequentialminus": [
            [
             0,
             "#0d0887"
            ],
            [
             0.1111111111111111,
             "#46039f"
            ],
            [
             0.2222222222222222,
             "#7201a8"
            ],
            [
             0.3333333333333333,
             "#9c179e"
            ],
            [
             0.4444444444444444,
             "#bd3786"
            ],
            [
             0.5555555555555556,
             "#d8576b"
            ],
            [
             0.6666666666666666,
             "#ed7953"
            ],
            [
             0.7777777777777778,
             "#fb9f3a"
            ],
            [
             0.8888888888888888,
             "#fdca26"
            ],
            [
             1,
             "#f0f921"
            ]
           ]
          },
          "colorway": [
           "#636efa",
           "#EF553B",
           "#00cc96",
           "#ab63fa",
           "#FFA15A",
           "#19d3f3",
           "#FF6692",
           "#B6E880",
           "#FF97FF",
           "#FECB52"
          ],
          "font": {
           "color": "#f2f5fa"
          },
          "geo": {
           "bgcolor": "rgb(17,17,17)",
           "lakecolor": "rgb(17,17,17)",
           "landcolor": "rgb(17,17,17)",
           "showlakes": true,
           "showland": true,
           "subunitcolor": "#506784"
          },
          "hoverlabel": {
           "align": "left"
          },
          "hovermode": "closest",
          "mapbox": {
           "style": "dark"
          },
          "paper_bgcolor": "rgb(17,17,17)",
          "plot_bgcolor": "rgb(17,17,17)",
          "polar": {
           "angularaxis": {
            "gridcolor": "#506784",
            "linecolor": "#506784",
            "ticks": ""
           },
           "bgcolor": "rgb(17,17,17)",
           "radialaxis": {
            "gridcolor": "#506784",
            "linecolor": "#506784",
            "ticks": ""
           }
          },
          "scene": {
           "xaxis": {
            "backgroundcolor": "rgb(17,17,17)",
            "gridcolor": "#506784",
            "gridwidth": 2,
            "linecolor": "#506784",
            "showbackground": true,
            "ticks": "",
            "zerolinecolor": "#C8D4E3"
           },
           "yaxis": {
            "backgroundcolor": "rgb(17,17,17)",
            "gridcolor": "#506784",
            "gridwidth": 2,
            "linecolor": "#506784",
            "showbackground": true,
            "ticks": "",
            "zerolinecolor": "#C8D4E3"
           },
           "zaxis": {
            "backgroundcolor": "rgb(17,17,17)",
            "gridcolor": "#506784",
            "gridwidth": 2,
            "linecolor": "#506784",
            "showbackground": true,
            "ticks": "",
            "zerolinecolor": "#C8D4E3"
           }
          },
          "shapedefaults": {
           "line": {
            "color": "#f2f5fa"
           }
          },
          "sliderdefaults": {
           "bgcolor": "#C8D4E3",
           "bordercolor": "rgb(17,17,17)",
           "borderwidth": 1,
           "tickwidth": 0
          },
          "ternary": {
           "aaxis": {
            "gridcolor": "#506784",
            "linecolor": "#506784",
            "ticks": ""
           },
           "baxis": {
            "gridcolor": "#506784",
            "linecolor": "#506784",
            "ticks": ""
           },
           "bgcolor": "rgb(17,17,17)",
           "caxis": {
            "gridcolor": "#506784",
            "linecolor": "#506784",
            "ticks": ""
           }
          },
          "title": {
           "x": 0.05
          },
          "updatemenudefaults": {
           "bgcolor": "#506784",
           "borderwidth": 0
          },
          "xaxis": {
           "automargin": true,
           "gridcolor": "#283442",
           "linecolor": "#506784",
           "ticks": "",
           "title": {
            "standoff": 15
           },
           "zerolinecolor": "#283442",
           "zerolinewidth": 2
          },
          "yaxis": {
           "automargin": true,
           "gridcolor": "#283442",
           "linecolor": "#506784",
           "ticks": "",
           "title": {
            "standoff": 15
           },
           "zerolinecolor": "#283442",
           "zerolinewidth": 2
          }
         }
        },
        "title": {
         "text": "反事实场景分析"
        },
        "yaxis": {
         "title": {
          "text": "平均营收 ($)"
         }
        }
       }
      },
      "image/png": "[encoded data removed]"
     },
     "metadata": {},
     "output_type": "display_data"
    },
    {
     "name": "stdout",
     "output_type": "stream",
     "text": [
      "\n",
      "============================================================\n",
      "仅运行 EconML 分析...\n",
      "============================================================\n",
      "\n",
      "=== 促销活动因果效应分析 (EconML) ===\n",
      "\n",
      "CausalForest ATE: $12.66\n",
      "\n",
      "=== 反事实推断 (EconML) ===\n",
      "当前平均营收        : $225.33\n",
      "全部促销 反事实营收 : $228.15  (+ 1.2%)\n",
      "全部停促销反事实营收: $215.49  ( 4.4% ↓)\n"
     ]
    },
    {
     "data": {
      "application/vnd.plotly.v1+json": {
       "config": {
        "plotlyServerURL": "https://plot.ly"
       },
       "data": [
        {
         "text": [
          "$13"
         ],
         "textposition": "auto",
         "type": "bar",
         "x": [
          "CausalForest ATE"
         ],
         "y": [
          12.662556779983454
         ]
        }
       ],
       "layout": {
        "template": {
         "data": {
          "bar": [
           {
            "error_x": {
             "color": "#f2f5fa"
            },
            "error_y": {
             "color": "#f2f5fa"
            },
            "marker": {
             "line": {
              "color": "rgb(17,17,17)",
              "width": 0.5
             },
             "pattern": {
              "fillmode": "overlay",
              "size": 10,
              "solidity": 0.2
             }
            },
            "type": "bar"
           }
          ],
          "barpolar": [
           {
            "marker": {
             "line": {
              "color": "rgb(17,17,17)",
              "width": 0.5
             },
             "pattern": {
              "fillmode": "overlay",
              "size": 10,
              "solidity": 0.2
             }
            },
            "type": "barpolar"
           }
          ],
          "carpet": [
           {
            "aaxis": {
             "endlinecolor": "#A2B1C6",
             "gridcolor": "#506784",
             "linecolor": "#506784",
             "minorgridcolor": "#506784",
             "startlinecolor": "#A2B1C6"
            },
            "baxis": {
             "endlinecolor": "#A2B1C6",
             "gridcolor": "#506784",
             "linecolor": "#506784",
             "minorgridcolor": "#506784",
             "startlinecolor": "#A2B1C6"
            },
            "type": "carpet"
           }
          ],
          "choropleth": [
           {
            "colorbar": {
             "outlinewidth": 0,
             "ticks": ""
            },
            "type": "choropleth"
           }
          ],
          "contour": [
           {
            "colorbar": {
             "outlinewidth": 0,
             "ticks": ""
            },
            "colorscale": [
             [
              0,
              "#0d0887"
             ],
             [
              0.1111111111111111,
              "#46039f"
             ],
             [
              0.2222222222222222,
              "#7201a8"
             ],
             [
              0.3333333333333333,
              "#9c179e"
             ],
             [
              0.4444444444444444,
              "#bd3786"
             ],
             [
              0.5555555555555556,
              "#d8576b"
             ],
             [
              0.6666666666666666,
              "#ed7953"
             ],
             [
              0.7777777777777778,
              "#fb9f3a"
             ],
             [
              0.8888888888888888,
              "#fdca26"
             ],
             [
              1,
              "#f0f921"
             ]
            ],
            "type": "contour"
           }
          ],
          "contourcarpet": [
           {
            "colorbar": {
             "outlinewidth": 0,
             "ticks": ""
            },
            "type": "contourcarpet"
           }
          ],
          "heatmap": [
           {
            "colorbar": {
             "outlinewidth": 0,
             "ticks": ""
            },
            "colorscale": [
             [
              0,
              "#0d0887"
             ],
             [
              0.1111111111111111,
              "#46039f"
             ],
             [
              0.2222222222222222,
              "#7201a8"
             ],
             [
              0.3333333333333333,
              "#9c179e"
             ],
             [
              0.4444444444444444,
              "#bd3786"
             ],
             [
              0.5555555555555556,
              "#d8576b"
             ],
             [
              0.6666666666666666,
              "#ed7953"
             ],
             [
              0.7777777777777778,
              "#fb9f3a"
             ],
             [
              0.8888888888888888,
              "#fdca26"
             ],
             [
              1,
              "#f0f921"
             ]
            ],
            "type": "heatmap"
           }
          ],
          "histogram": [
           {
            "marker": {
             "pattern": {
              "fillmode": "overlay",
              "size": 10,
              "solidity": 0.2
             }
            },
            "type": "histogram"
           }
          ],
          "histogram2d": [
           {
            "colorbar": {
             "outlinewidth": 0,
             "ticks": ""
            },
            "colorscale": [
             [
              0,
              "#0d0887"
             ],
             [
              0.1111111111111111,
              "#46039f"
             ],
             [
              0.2222222222222222,
              "#7201a8"
             ],
             [
              0.3333333333333333,
              "#9c179e"
             ],
             [
              0.4444444444444444,
              "#bd3786"
             ],
             [
              0.5555555555555556,
              "#d8576b"
             ],
             [
              0.6666666666666666,
              "#ed7953"
             ],
             [
              0.7777777777777778,
              "#fb9f3a"
             ],
             [
              0.8888888888888888,
              "#fdca26"
             ],
             [
              1,
              "#f0f921"
             ]
            ],
            "type": "histogram2d"
           }
          ],
          "histogram2dcontour": [
           {
            "colorbar": {
             "outlinewidth": 0,
             "ticks": ""
            },
            "colorscale": [
             [
              0,
              "#0d0887"
             ],
             [
              0.1111111111111111,
              "#46039f"
             ],
             [
              0.2222222222222222,
              "#7201a8"
             ],
             [
              0.3333333333333333,
              "#9c179e"
             ],
             [
              0.4444444444444444,
              "#bd3786"
             ],
             [
              0.5555555555555556,
              "#d8576b"
             ],
             [
              0.6666666666666666,
              "#ed7953"
             ],
             [
              0.7777777777777778,
              "#fb9f3a"
             ],
             [
              0.8888888888888888,
              "#fdca26"
             ],
             [
              1,
              "#f0f921"
             ]
            ],
            "type": "histogram2dcontour"
           }
          ],
          "mesh3d": [
           {
            "colorbar": {
             "outlinewidth": 0,
             "ticks": ""
            },
            "type": "mesh3d"
           }
          ],
          "parcoords": [
           {
            "line": {
             "colorbar": {
              "outlinewidth": 0,
              "ticks": ""
             }
            },
            "type": "parcoords"
           }
          ],
          "pie": [
           {
            "automargin": true,
            "type": "pie"
           }
          ],
          "scatter": [
           {
            "marker": {
             "line": {
              "color": "#283442"
             }
            },
            "type": "scatter"
           }
          ],
          "scatter3d": [
           {
            "line": {
             "colorbar": {
              "outlinewidth": 0,
              "ticks": ""
             }
            },
            "marker": {
             "colorbar": {
              "outlinewidth": 0,
              "ticks": ""
             }
            },
            "type": "scatter3d"
           }
          ],
          "scattercarpet": [
           {
            "marker": {
             "colorbar": {
              "outlinewidth": 0,
              "ticks": ""
             }
            },
            "type": "scattercarpet"
           }
          ],
          "scattergeo": [
           {
            "marker": {
             "colorbar": {
              "outlinewidth": 0,
              "ticks": ""
             }
            },
            "type": "scattergeo"
           }
          ],
          "scattergl": [
           {
            "marker": {
             "line": {
              "color": "#283442"
             }
            },
            "type": "scattergl"
           }
          ],
          "scattermap": [
           {
            "marker": {
             "colorbar": {
              "outlinewidth": 0,
              "ticks": ""
             }
            },
            "type": "scattermap"
           }
          ],
          "scattermapbox": [
           {
            "marker": {
             "colorbar": {
              "outlinewidth": 0,
              "ticks": ""
             }
            },
            "type": "scattermapbox"
           }
          ],
          "scatterpolar": [
           {
            "marker": {
             "colorbar": {
              "outlinewidth": 0,
              "ticks": ""
             }
            },
            "type": "scatterpolar"
           }
          ],
          "scatterpolargl": [
           {
            "marker": {
             "colorbar": {
              "outlinewidth": 0,
              "ticks": ""
             }
            },
            "type": "scatterpolargl"
           }
          ],
          "scatterternary": [
           {
            "marker": {
             "colorbar": {
              "outlinewidth": 0,
              "ticks": ""
             }
            },
            "type": "scatterternary"
           }
          ],
          "surface": [
           {
            "colorbar": {
             "outlinewidth": 0,
             "ticks": ""
            },
            "colorscale": [
             [
              0,
              "#0d0887"
             ],
             [
              0.1111111111111111,
              "#46039f"
             ],
             [
              0.2222222222222222,
              "#7201a8"
             ],
             [
              0.3333333333333333,
              "#9c179e"
             ],
             [
              0.4444444444444444,
              "#bd3786"
             ],
             [
              0.5555555555555556,
              "#d8576b"
             ],
             [
              0.6666666666666666,
              "#ed7953"
             ],
             [
              0.7777777777777778,
              "#fb9f3a"
             ],
             [
              0.8888888888888888,
              "#fdca26"
             ],
             [
              1,
              "#f0f921"
             ]
            ],
            "type": "surface"
           }
          ],
          "table": [
           {
            "cells": {
             "fill": {
              "color": "#506784"
             },
             "line": {
              "color": "rgb(17,17,17)"
             }
            },
            "header": {
             "fill": {
              "color": "#2a3f5f"
             },
             "line": {
              "color": "rgb(17,17,17)"
             }
            },
            "type": "table"
           }
          ]
         },
         "layout": {
          "annotationdefaults": {
           "arrowcolor": "#f2f5fa",
           "arrowhead": 0,
           "arrowwidth": 1
          },
          "autotypenumbers": "strict",
          "coloraxis": {
           "colorbar": {
            "outlinewidth": 0,
            "ticks": ""
           }
          },
          "colorscale": {
           "diverging": [
            [
             0,
             "#8e0152"
            ],
            [
             0.1,
             "#c51b7d"
            ],
            [
             0.2,
             "#de77ae"
            ],
            [
             0.3,
             "#f1b6da"
            ],
            [
             0.4,
             "#fde0ef"
            ],
            [
             0.5,
             "#f7f7f7"
            ],
            [
             0.6,
             "#e6f5d0"
            ],
            [
             0.7,
             "#b8e186"
            ],
            [
             0.8,
             "#7fbc41"
            ],
            [
             0.9,
             "#4d9221"
            ],
            [
             1,
             "#276419"
            ]
           ],
           "sequential": [
            [
             0,
             "#0d0887"
            ],
            [
             0.1111111111111111,
             "#46039f"
            ],
            [
             0.2222222222222222,
             "#7201a8"
            ],
            [
             0.3333333333333333,
             "#9c179e"
            ],
            [
             0.4444444444444444,
             "#bd3786"
            ],
            [
             0.5555555555555556,
             "#d8576b"
            ],
            [
             0.6666666666666666,
             "#ed7953"
            ],
            [
             0.7777777777777778,
             "#fb9f3a"
            ],
            [
             0.8888888888888888,
             "#fdca26"
            ],
            [
             1,
             "#f0f921"
            ]
           ],
           "sequentialminus": [
            [
             0,
             "#0d0887"
            ],
            [
             0.1111111111111111,
             "#46039f"
            ],
            [
             0.2222222222222222,
             "#7201a8"
            ],
            [
             0.3333333333333333,
             "#9c179e"
            ],
            [
             0.4444444444444444,
             "#bd3786"
            ],
            [
             0.5555555555555556,
             "#d8576b"
            ],
            [
             0.6666666666666666,
             "#ed7953"
            ],
            [
             0.7777777777777778,
             "#fb9f3a"
            ],
            [
             0.8888888888888888,
             "#fdca26"
            ],
            [
             1,
             "#f0f921"
            ]
           ]
          },
          "colorway": [
           "#636efa",
           "#EF553B",
           "#00cc96",
           "#ab63fa",
           "#FFA15A",
           "#19d3f3",
           "#FF6692",
           "#B6E880",
           "#FF97FF",
           "#FECB52"
          ],
          "font": {
           "color": "#f2f5fa"
          },
          "geo": {
           "bgcolor": "rgb(17,17,17)",
           "lakecolor": "rgb(17,17,17)",
           "landcolor": "rgb(17,17,17)",
           "showlakes": true,
           "showland": true,
           "subunitcolor": "#506784"
          },
          "hoverlabel": {
           "align": "left"
          },
          "hovermode": "closest",
          "mapbox": {
           "style": "dark"
          },
          "paper_bgcolor": "rgb(17,17,17)",
          "plot_bgcolor": "rgb(17,17,17)",
          "polar": {
           "angularaxis": {
            "gridcolor": "#506784",
            "linecolor": "#506784",
            "ticks": ""
           },
           "bgcolor": "rgb(17,17,17)",
           "radialaxis": {
            "gridcolor": "#506784",
            "linecolor": "#506784",
            "ticks": ""
           }
          },
          "scene": {
           "xaxis": {
            "backgroundcolor": "rgb(17,17,17)",
            "gridcolor": "#506784",
            "gridwidth": 2,
            "linecolor": "#506784",
            "showbackground": true,
            "ticks": "",
            "zerolinecolor": "#C8D4E3"
           },
           "yaxis": {
            "backgroundcolor": "rgb(17,17,17)",
            "gridcolor": "#506784",
            "gridwidth": 2,
            "linecolor": "#506784",
            "showbackground": true,
            "ticks": "",
            "zerolinecolor": "#C8D4E3"
           },
           "zaxis": {
            "backgroundcolor": "rgb(17,17,17)",
            "gridcolor": "#506784",
            "gridwidth": 2,
            "linecolor": "#506784",
            "showbackground": true,
            "ticks": "",
            "zerolinecolor": "#C8D4E3"
           }
          },
          "shapedefaults": {
           "line": {
            "color": "#f2f5fa"
           }
          },
          "sliderdefaults": {
           "bgcolor": "#C8D4E3",
           "bordercolor": "rgb(17,17,17)",
           "borderwidth": 1,
           "tickwidth": 0
          },
          "ternary": {
           "aaxis": {
            "gridcolor": "#506784",
            "linecolor": "#506784",
            "ticks": ""
           },
           "baxis": {
            "gridcolor": "#506784",
            "linecolor": "#506784",
            "ticks": ""
           },
           "bgcolor": "rgb(17,17,17)",
           "caxis": {
            "gridcolor": "#506784",
            "linecolor": "#506784",
            "ticks": ""
           }
          },
          "title": {
           "x": 0.05
          },
          "updatemenudefaults": {
           "bgcolor": "#506784",
           "borderwidth": 0
          },
          "xaxis": {
           "automargin": true,
           "gridcolor": "#283442",
           "linecolor": "#506784",
           "ticks": "",
           "title": {
            "standoff": 15
           },
           "zerolinecolor": "#283442",
           "zerolinewidth": 2
          },
          "yaxis": {
           "automargin": true,
           "gridcolor": "#283442",
           "linecolor": "#506784",
           "ticks": "",
           "title": {
            "standoff": 15
           },
           "zerolinecolor": "#283442",
           "zerolinewidth": 2
          }
         }
        },
        "title": {
         "text": "促销因果效应 (CausalForest)"
        },
        "yaxis": {
         "title": {
          "text": "平均因果效应 ($)"
         }
        }
       }
      },
      "image/png": "[encoded data removed]"
     },
     "metadata": {},
     "output_type": "display_data"
    }
   ],
   "source": [
    "\"\"\"\n",
    "基于 UMe 茶饮销售数据，评估天气、节假日、促销等因素的因果影响\n",
    "\"\"\"\n",
    "\n",
    "import pandas as pd\n",
    "import numpy as np\n",
    "pd.options.display.max_columns = None\n",
    "\n",
    "from datetime import datetime, timedelta\n",
    "import clickhouse_connect\n",
    "from sklearn.preprocessing import StandardScaler\n",
    "from sklearn.ensemble import RandomForestRegressor, RandomForestClassifier\n",
    "from sklearn.model_selection import train_test_split\n",
    "import warnings; warnings.filterwarnings(\"ignore\")\n",
    "\n",
    "# 因果推断\n",
    "from dowhy import CausalModel\n",
    "import statsmodels.api as sm\n",
    "\n",
    "# EconML（异质效应分析）\n",
    "from econml.metalearners import TLearner\n",
    "from econml.dml import CausalForestDML, LinearDML\n",
    "\n",
    "# 可视化\n",
    "import plotly.graph_objects as go\n",
    "\n",
    "\n",
    "class FBRCausalInference:\n",
    "    \"\"\"FBR 因果推断分析引擎 - 修复版\"\"\"\n",
    "\n",
    "    # ------------------------------------------------------------\n",
    "    # 0. 初始化\n",
    "    # ------------------------------------------------------------\n",
    "    def __init__(self, ch_config: dict):\n",
    "        self.ch_client = clickhouse_connect.get_client(**ch_config)\n",
    "        self.scaler = StandardScaler()\n",
    "\n",
    "    # ------------------------------------------------------------\n",
    "    # 1. 数据抽取\n",
    "    # ------------------------------------------------------------\n",
    "    def load_integrated_data(self, start_date: str, end_date: str) -> pd.DataFrame:\n",
    "        \"\"\"拉取日 × 店铺销售聚合 + 类别特征\"\"\"\n",
    "        sales_query = f\"\"\"\n",
    "        WITH\n",
    "            toDate(created_at_pt)          AS dt,\n",
    "            toDayOfWeek(created_at_pt)     AS day_of_week,\n",
    "            toHour(created_at_pt)          AS hour_of_day,\n",
    "            substring(location_name, position(location_name,'-')+1, 2) AS state\n",
    "        SELECT\n",
    "            dt  AS date,\n",
    "            location_id,\n",
    "            location_name,\n",
    "            state,\n",
    "            day_of_week,\n",
    "            hour_of_day,\n",
    "            /* 指标 */\n",
    "            countDistinct(order_id)                              AS order_count,\n",
    "            sum(item_total_amt)                                  AS total_revenue,\n",
    "            avg(item_total_amt)                                  AS avg_order_value,\n",
    "            sum(item_discount)                                   AS total_discount,\n",
    "            sum(item_discount>0)                                 AS discount_orders,\n",
    "            countDistinct(customer_id)                           AS unique_customers,\n",
    "            sum(is_loyalty)                                      AS loyalty_orders,\n",
    "            sum(arrayExists(x->x='BOGO',assumeNotNull(campaign_names))) AS bogo_orders,\n",
    "            countDistinct(category_name)                         AS category_diversity\n",
    "        FROM dw.fact_order_item_variations\n",
    "        WHERE\n",
    "            created_at_pt >= '{start_date}'\n",
    "            AND created_at_pt <= '{end_date}'\n",
    "            AND pay_status = 'COMPLETED'\n",
    "        GROUP BY\n",
    "            date, location_id, location_name, state, day_of_week, hour_of_day\n",
    "        ORDER BY\n",
    "            date, location_id\n",
    "        \"\"\"\n",
    "        sales_df = self.ch_client.query_df(sales_query)\n",
    "\n",
    "        # —— 类别特征（示例）———————————————————————————\n",
    "        category_query = f\"\"\"\n",
    "        SELECT\n",
    "            toDate(created_at_pt) AS date,\n",
    "            location_id,\n",
    "            category_name,\n",
    "            count()               AS category_orders,\n",
    "            sum(item_total_amt)   AS category_revenue\n",
    "        FROM dw.fact_order_item_variations\n",
    "        WHERE created_at_pt BETWEEN '{start_date}' AND '{end_date}'\n",
    "              AND pay_status='COMPLETED'\n",
    "        GROUP BY date, location_id, category_name\n",
    "        \"\"\"\n",
    "        cat_df = self.ch_client.query_df(category_query)\n",
    "\n",
    "        hot_categories = ['Milk Tea', 'Fruit Tea', 'Coffee', 'Snacks']\n",
    "        for cat in hot_categories:\n",
    "            tmp = cat_df[cat_df['category_name'] == cat].copy()\n",
    "            tmp = tmp.rename(columns={\n",
    "                'category_orders': f\"{cat.lower().replace(' ','_')}_orders\",\n",
    "                'category_revenue': f\"{cat.lower().replace(' ','_')}_revenue\"\n",
    "            })\n",
    "            sales_df = sales_df.merge(\n",
    "                tmp[['date','location_id',\n",
    "                     f\"{cat.lower().replace(' ','_')}_orders\",\n",
    "                     f\"{cat.lower().replace(' ','_')}_revenue\"]],\n",
    "                on=['date','location_id'],\n",
    "                how='left'\n",
    "            )\n",
    "\n",
    "        return sales_df.fillna(0)\n",
    "\n",
    "    # ------------------------------------------------------------\n",
    "    # 2. 衍生处理变量\n",
    "    # ------------------------------------------------------------\n",
    "    @staticmethod\n",
    "    def create_treatment_variables(df: pd.DataFrame) -> pd.DataFrame:\n",
    "        df = df.copy()\n",
    "        df['has_promotion']      = (df['total_discount'] > 0).astype(int)\n",
    "        df['promotion_intensity'] = df['total_discount'].astype(float) /(df['total_revenue'].astype(float)  + df['total_discount'].astype(float)  + 1e-3)\n",
    "\n",
    "        df['has_bogo']    = (df['bogo_orders'] > 0).astype(int)\n",
    "        df['is_weekend']  = df['day_of_week'].isin([6,7]).astype(int)\n",
    "        df['is_member_day'] = (df['day_of_week'] == 3).astype(int)\n",
    "        df['is_peak_hour'] = df.groupby('location_id')['order_count'].transform(lambda x: (x > x.quantile(.75)).astype(int))\n",
    "        return df\n",
    "\n",
    "    # ------------------------------------------------------------\n",
    "    # 3. 促销效应分析（DoWhy + EconML）\n",
    "    # ------------------------------------------------------------\n",
    "    def analyze_promotion_effect(self, df: pd.DataFrame, method='both') -> dict:\n",
    "        \"\"\"\n",
    "        分析促销效应\n",
    "        method: 'dowhy', 'econml', 'both'\n",
    "        \"\"\"\n",
    "        results = {}\n",
    "\n",
    "        if method in ['dowhy', 'both']:\n",
    "            dowhy_results = self._analyze_promotion_dowhy(df)\n",
    "            results['DoWhy'] = dowhy_results\n",
    "\n",
    "        if method in ['econml', 'both']:\n",
    "            econml_results = self._analyze_promotion_econml(df)\n",
    "            results['EconML'] = econml_results\n",
    "\n",
    "        return results\n",
    "\n",
    "    # ------------------------------------------------------------\n",
    "    # 3.1 DoWhy 方法（修复版）\n",
    "    # ------------------------------------------------------------\n",
    "    def _analyze_promotion_dowhy(self, df: pd.DataFrame) -> dict:\n",
    "        print(\"\\n=== 促销活动因果效应分析 (DoWhy) ===\\n\")\n",
    "\n",
    "        treatment = 'has_promotion'\n",
    "        outcome   = 'total_revenue'\n",
    "        confs     = ['day_of_week','unique_customers',\n",
    "                     'category_diversity','loyalty_orders','is_weekend']\n",
    "\n",
    "        # 数值化处理\n",
    "        df = self._force_numeric(df, [treatment,outcome]+confs).dropna()\n",
    "\n",
    "        # 因果图定义\n",
    "        graph = \"\"\"\n",
    "        digraph {\n",
    "            is_member_day -> has_promotion;\n",
    "            has_promotion -> total_revenue;\n",
    "\n",
    "            day_of_week -> {has_promotion total_revenue};\n",
    "            unique_customers -> total_revenue;\n",
    "            category_diversity -> total_revenue;\n",
    "            loyalty_orders -> {has_promotion total_revenue};\n",
    "            is_weekend -> {has_promotion total_revenue};\n",
    "        }\n",
    "        \"\"\"\n",
    "\n",
    "        model = CausalModel(df, treatment, outcome, graph)\n",
    "        ident = model.identify_effect(proceed_when_unidentifiable=True)\n",
    "        print(\"识别的因果效应:\\n\", ident)\n",
    "\n",
    "        results = {}\n",
    "\n",
    "        # ① PSM\n",
    "        try:\n",
    "            psm = model.estimate_effect(ident,\n",
    "                     method_name=\"backdoor.propensity_score_matching\")\n",
    "            results['PSM'] = round(psm.value,2)\n",
    "            print(f\"倾向得分匹配估计: {psm.value:.2f}\")\n",
    "        except Exception as e:\n",
    "            print(\"PSM 失败:\", e)\n",
    "\n",
    "        # ② 线性回归\n",
    "        lr = model.estimate_effect(ident,\n",
    "                     method_name=\"backdoor.linear_regression\")\n",
    "        results['LinearRegression'] = round(lr.value,2)\n",
    "        print(f\"线性回归估计: {lr.value:.2f}\")\n",
    "\n",
    "        # ③ 工具变量\n",
    "        try:\n",
    "            iv = model.estimate_effect(ident,\n",
    "                method_name=\"iv.instrumental_variable\",\n",
    "                method_params={'iv_instrument_name':'is_member_day'})\n",
    "            results['IV'] = round(iv.value,2)\n",
    "            print(f\"工具变量估计: {iv.value:.2f}\")\n",
    "        except Exception as e:\n",
    "            print(\"IV 估计失败:\", e)\n",
    "\n",
    "        # ④ 反事实分析（修复版）\n",
    "        self._counterfactual_dowhy_fixed(model, ident, df, lr,\n",
    "                                         treatment=treatment, outcome=outcome)\n",
    "\n",
    "        return results\n",
    "\n",
    "    # ------------------------------------------------------------\n",
    "    # 3.2 修复的反事实分析\n",
    "    # ------------------------------------------------------------\n",
    "    def _counterfactual_dowhy_fixed(self, model, ident, df, estimator, treatment, outcome):\n",
    "        \"\"\"修复版：使用已估计的模型进行反事实推断\"\"\"\n",
    "        try:\n",
    "            # 获取当前平均值\n",
    "            y_actual = df[outcome].mean()\n",
    "\n",
    "            # 方法1：使用估计器的系数进行反事实计算\n",
    "            if hasattr(estimator, 'estimator') and hasattr(estimator.estimator, 'model'):\n",
    "                coef = estimator.estimator.model.params.get(treatment, 0)\n",
    "\n",
    "                # 计算反事实\n",
    "                y_all_promo = y_actual + coef * (1 - df[treatment].mean())\n",
    "                y_no_promo = y_actual - coef * df[treatment].mean()\n",
    "\n",
    "                print(\"\\n=== 反事实推断 (基于线性模型) ===\")\n",
    "                print(f\"当前平均营收        : ${y_actual:.2f}\")\n",
    "                print(f\"全部促销 反事实营收 : ${y_all_promo:.2f}  (+{(y_all_promo/y_actual-1)*100:4.1f}%)\")\n",
    "                print(f\"全部停促销反事实营收: ${y_no_promo:.2f}  ({(1-y_no_promo/y_actual)*100:4.1f}% ↓)\")\n",
    "            else:\n",
    "                # 方法2：简单基于ATE的反事实\n",
    "                ate = estimator.value\n",
    "                promo_rate = df[treatment].mean()\n",
    "\n",
    "                y_all_promo = y_actual + ate * (1 - promo_rate)\n",
    "                y_no_promo = y_actual - ate * promo_rate\n",
    "\n",
    "                print(\"\\n=== 反事实推断 (基于ATE) ===\")\n",
    "                print(f\"当前平均营收        : ${y_actual:.2f}\")\n",
    "                print(f\"全部促销 反事实营收 : ${y_all_promo:.2f}  (+{(y_all_promo/y_actual-1)*100:4.1f}%)\")\n",
    "                print(f\"全部停促销反事实营收: ${y_no_promo:.2f}  ({(1-y_no_promo/y_actual)*100:4.1f}% ↓)\")\n",
    "\n",
    "        except Exception as e:\n",
    "            print(f\"反事实分析出错: {e}\")\n",
    "\n",
    "    # ------------------------------------------------------------\n",
    "    # 3.3 EconML 方法\n",
    "    # ------------------------------------------------------------\n",
    "    def _analyze_promotion_econml(self, df: pd.DataFrame) -> dict:\n",
    "        \"\"\"使用EconML的CausalForest进行促销效应分析\"\"\"\n",
    "        print(\"\\n=== 促销活动因果效应分析 (EconML) ===\\n\")\n",
    "\n",
    "        treatment = 'has_promotion'\n",
    "        outcome = 'total_revenue'\n",
    "        feature_cols = ['day_of_week', 'unique_customers', 'category_diversity',\n",
    "                       'loyalty_orders', 'is_weekend']\n",
    "\n",
    "        # 数据预处理\n",
    "        df = df.copy()\n",
    "        df[feature_cols + [outcome]] = df[feature_cols + [outcome]].apply(\n",
    "            pd.to_numeric, errors='coerce')\n",
    "        df = df.dropna(subset=feature_cols + [outcome])\n",
    "\n",
    "        Y = df[outcome].values\n",
    "        T = df[treatment].values.astype(int)  # 确保是整数类型\n",
    "        X = df[feature_cols].values\n",
    "\n",
    "        # 分割训练集和测试集\n",
    "        X_tr, X_te, T_tr, T_te, Y_tr, Y_te = train_test_split(\n",
    "            X, T, Y, test_size=0.2, random_state=42)\n",
    "\n",
    "        # 训练CausalForest模型\n",
    "        # 对于二值处理变量，使用 discrete_treatment=True\n",
    "        cf = CausalForestDML(\n",
    "            model_t='auto',  # 让模型自动选择合适的第一阶段模型\n",
    "            model_y=RandomForestRegressor(n_estimators=200, max_depth=6),\n",
    "            discrete_treatment=True,  # 指定处理变量是离散的\n",
    "            n_estimators=500,  # 减少树的数量以加快训练\n",
    "            min_samples_leaf=50,\n",
    "            random_state=42\n",
    "        )\n",
    "\n",
    "        try:\n",
    "            cf.fit(Y_tr, T_tr, X=X_tr)\n",
    "\n",
    "            # 计算效应\n",
    "            cate_te = cf.effect(X_te)\n",
    "            ate = float(cate_te.mean())\n",
    "\n",
    "            # 反事实分析\n",
    "            rev_actual = Y_te.mean()\n",
    "\n",
    "            # 对未促销的样本，计算如果促销的效应\n",
    "            no_promo_idx = T_te == 0\n",
    "            promo_effect_on_no_promo = cate_te[no_promo_idx].mean() if no_promo_idx.any() else 0\n",
    "\n",
    "            # 对已促销的样本，计算如果不促销的效应（负效应）\n",
    "            promo_idx = T_te == 1\n",
    "            no_promo_effect_on_promo = -cate_te[promo_idx].mean() if promo_idx.any() else 0\n",
    "\n",
    "            # 计算反事实场景\n",
    "            promo_rate = T_te.mean()\n",
    "            rev_all_promo = rev_actual + promo_effect_on_no_promo * (1 - promo_rate)\n",
    "            rev_no_promo = rev_actual + no_promo_effect_on_promo * promo_rate\n",
    "\n",
    "            print(f\"CausalForest ATE: ${ate:.2f}\")\n",
    "            print(f\"\\n=== 反事实推断 (EconML) ===\")\n",
    "            print(f\"当前平均营收        : ${rev_actual:.2f}\")\n",
    "            print(f\"全部促销 反事实营收 : ${rev_all_promo:.2f}  (+{(rev_all_promo/rev_actual-1)*100:4.1f}%)\")\n",
    "            print(f\"全部停促销反事实营收: ${rev_no_promo:.2f}  ({(1-rev_no_promo/rev_actual)*100:4.1f}% ↓)\")\n",
    "\n",
    "            results = {\n",
    "                'CausalForest_ATE': ate,\n",
    "                'Actual_Revenue': rev_actual,\n",
    "                'AllPromo_Revenue': rev_all_promo,\n",
    "                'NoPromo_Revenue': rev_no_promo,\n",
    "                'CATE_std': float(cate_te.std())\n",
    "            }\n",
    "\n",
    "            return results\n",
    "\n",
    "        except Exception as e:\n",
    "            print(f\"EconML分析失败: {e}\")\n",
    "            print(\"尝试使用更简单的模型...\")\n",
    "\n",
    "            # 降级到线性DML模型\n",
    "            ldml = LinearDML(\n",
    "                model_t='auto',\n",
    "                model_y=RandomForestRegressor(n_estimators=100, max_depth=5),\n",
    "                discrete_treatment=True,\n",
    "                random_state=42\n",
    "            )\n",
    "\n",
    "            ldml.fit(Y_tr, T_tr, X=X_tr)\n",
    "            ate = ldml.ate(X_te)\n",
    "\n",
    "            print(f\"\\nLinearDML ATE: ${ate:.2f}\")\n",
    "\n",
    "            return {\n",
    "                'LinearDML_ATE': ate,\n",
    "                'Actual_Revenue': Y_te.mean(),\n",
    "                'Fallback': True\n",
    "            }\n",
    "\n",
    "    # ------------------------------------------------------------\n",
    "    # 4. 天气效应（EconML TLearner）\n",
    "    # ------------------------------------------------------------\n",
    "    def analyze_weather_effect(self, sales_df, weather_df):\n",
    "        print(\"\\n=== 天气因果效应分析 (EconML TLearner) ===\\n\")\n",
    "\n",
    "        merged = sales_df.merge(weather_df, on=['date','state'], how='left')\n",
    "        merged['is_hot'] = (merged['temperature_2m_max'] > 30).astype(int)\n",
    "\n",
    "        Y = merged['total_revenue'].values\n",
    "        T = merged['is_hot'].values\n",
    "        X = merged[['day_of_week','unique_customers','category_diversity']].values\n",
    "\n",
    "        t_learner = TLearner(models=RandomForestRegressor(n_estimators=200,\n",
    "                                                          random_state=42))\n",
    "        t_learner.fit(Y, T, X=X)\n",
    "        cate = t_learner.effect(X)\n",
    "\n",
    "        print(f\"高温天气平均因果效应: ${cate.mean():.2f} (±{cate.std():.2f})\")\n",
    "        return merged, cate\n",
    "\n",
    "    # ------------------------------------------------------------\n",
    "    # 5. 小工具\n",
    "    # ------------------------------------------------------------\n",
    "    @staticmethod\n",
    "    def _force_numeric(df, cols):\n",
    "        \"\"\"把 object / Decimal 全转 float64，UInt* 转 int64\"\"\"\n",
    "        out = df.copy()\n",
    "        for c in cols:\n",
    "            if c in out.columns:\n",
    "                out[c] = pd.to_numeric(out[c], errors='coerce')\n",
    "        return out\n",
    "\n",
    "    # ------------------------------------------------------------\n",
    "    # 6. 可视化\n",
    "    # ------------------------------------------------------------\n",
    "    @staticmethod\n",
    "    def visualize_causal_effects(effects: dict):\n",
    "        \"\"\"可视化因果效应对比\"\"\"\n",
    "        if 'DoWhy' in effects and 'EconML' in effects:\n",
    "            # 组合显示\n",
    "            dowhy_vals = effects['DoWhy']\n",
    "            econml_res = effects['EconML']\n",
    "\n",
    "            if 'Fallback' in econml_res and econml_res['Fallback']:\n",
    "                methods = list(dowhy_vals.keys()) + ['LinearDML']\n",
    "                values = list(dowhy_vals.values()) + [econml_res.get('LinearDML_ATE', 0)]\n",
    "            else:\n",
    "                methods = list(dowhy_vals.keys()) + ['CausalForest']\n",
    "                values = list(dowhy_vals.values()) + [econml_res.get('CausalForest_ATE', 0)]\n",
    "\n",
    "            fig = go.Figure(go.Bar(\n",
    "                x=methods,\n",
    "                y=values,\n",
    "                text=[f\"${v:.0f}\" for v in values],\n",
    "                textposition='auto'\n",
    "            ))\n",
    "            fig.update_yaxes(title='平均因果效应 ($)')\n",
    "            fig.update_layout(title='促销因果效应估计对比 (DoWhy vs EconML)')\n",
    "\n",
    "        elif 'DoWhy' in effects:\n",
    "            fig = go.Figure(go.Bar(\n",
    "                x=list(effects['DoWhy'].keys()),\n",
    "                y=list(effects['DoWhy'].values()),\n",
    "                text=[f\"${v:.0f}\" for v in effects['DoWhy'].values()],\n",
    "                textposition='auto'\n",
    "            ))\n",
    "            fig.update_yaxes(title='平均因果效应 ($)')\n",
    "            fig.update_layout(title='促销因果效应估计对比 (DoWhy)')\n",
    "\n",
    "        else:\n",
    "            # EconML only\n",
    "            econml_res = effects['EconML']\n",
    "            if 'Fallback' in econml_res and econml_res['Fallback']:\n",
    "                ate = econml_res.get('LinearDML_ATE', 0)\n",
    "                title = '促销因果效应 (LinearDML)'\n",
    "                label = 'LinearDML ATE'\n",
    "            else:\n",
    "                ate = econml_res.get('CausalForest_ATE', 0)\n",
    "                title = '促销因果效应 (CausalForest)'\n",
    "                label = 'CausalForest ATE'\n",
    "\n",
    "            fig = go.Figure(go.Bar(\n",
    "                x=[label],\n",
    "                y=[ate],\n",
    "                text=[f\"${ate:.0f}\"],\n",
    "                textposition='auto'\n",
    "            ))\n",
    "            fig.update_yaxes(title='平均因果效应 ($)')\n",
    "            fig.update_layout(title=title)\n",
    "\n",
    "        return fig\n",
    "\n",
    "    @staticmethod\n",
    "    def visualize_counterfactual_scenarios(results: dict):\n",
    "        \"\"\"可视化反事实场景对比\"\"\"\n",
    "        scenarios = ['当前实际', '全部促销', '全部不促销']\n",
    "\n",
    "        if 'EconML' in results:\n",
    "            econml_res = results['EconML']\n",
    "\n",
    "            # 检查是否是 fallback 模式\n",
    "            if 'Fallback' in econml_res and econml_res['Fallback']:\n",
    "                print(\"使用 LinearDML 结果，反事实场景可视化不可用\")\n",
    "                return None\n",
    "\n",
    "            values = [\n",
    "                econml_res.get('Actual_Revenue', 0),\n",
    "                econml_res.get('AllPromo_Revenue', 0),\n",
    "                econml_res.get('NoPromo_Revenue', 0)\n",
    "            ]\n",
    "        else:\n",
    "            # 从DoWhy结果推算（简化版）\n",
    "            return None\n",
    "\n",
    "        fig = go.Figure(go.Bar(\n",
    "            x=scenarios,\n",
    "            y=values,\n",
    "            text=[f\"${v:.0f}\" for v in values],\n",
    "            textposition='auto',\n",
    "            marker_color=['blue', 'green', 'red']\n",
    "        ))\n",
    "\n",
    "        fig.update_yaxes(title='平均营收 ($)')\n",
    "        fig.update_layout(title='反事实场景分析')\n",
    "\n",
    "        return fig\n",
    "\n",
    "\n",
    "# ──────────────────────────────────────────────\n",
    "# 使用示例\n",
    "# ──────────────────────────────────────────────\n",
    "if __name__ == \"__main__\":\n",
    "    CLICKHOUSE_CONFIG = dict(\n",
    "        host=\"clickhouse-0-0.umetea.net\",\n",
    "        port=443,\n",
    "        database=\"dw\",\n",
    "        user=\"ml_ume\",\n",
    "        password=\"hDAoDvg8x552bH\",\n",
    "        verify=False,\n",
    "    )\n",
    "\n",
    "    ci = FBRCausalInference(CLICKHOUSE_CONFIG)\n",
    "\n",
    "    # 加载数据\n",
    "    start_date, end_date = \"2025-06-01\", \"2025-07-31\"\n",
    "    sales = ci.load_integrated_data(start_date, end_date)\n",
    "    sales = ci.create_treatment_variables(sales)\n",
    "\n",
    "    # 方法1：分析促销效应（使用两种方法）\n",
    "    print(\"=\"*60)\n",
    "    print(\"运行完整分析（DoWhy + EconML）...\")\n",
    "    print(\"=\"*60)\n",
    "    promo_results = ci.analyze_promotion_effect(sales, method='both')\n",
    "\n",
    "    # 可视化结果\n",
    "    fig1 = ci.visualize_causal_effects(promo_results)\n",
    "    fig1.show()\n",
    "\n",
    "    # 可视化反事实场景\n",
    "    fig2 = ci.visualize_counterfactual_scenarios(promo_results)\n",
    "    if fig2:\n",
    "        fig2.show()\n",
    "\n",
    "    # 方法2：仅使用 EconML（推荐，更稳定）\n",
    "    print(\"\\n\" + \"=\"*60)\n",
    "    print(\"仅运行 EconML 分析...\")\n",
    "    print(\"=\"*60)\n",
    "    econml_only = ci.analyze_promotion_effect(sales, method='econml')\n",
    "    fig3 = ci.visualize_causal_effects(econml_only)\n",
    "    fig3.show()"
   ]
  },
  {
   "cell_type": "code",
   "execution_count": null,
   "id": "1e9efd88cbe7cf43",
   "metadata": {},
   "outputs": [],
   "source": []
  }
 ],
 "metadata": {
  "kernelspec": {
   "display_name": "Python 3 (ipykernel)",
   "language": "python",
   "name": "python3"
  },
  "language_info": {
   "codemirror_mode": {
    "name": "ipython",
    "version": 3
   },
   "file_extension": ".py",
   "mimetype": "text/x-python",
   "name": "python",
   "nbconvert_exporter": "python",
   "pygments_lexer": "ipython3",
   "version": "3.12.11"
  }
 },
 "nbformat": 4,
 "nbformat_minor": 5
}
