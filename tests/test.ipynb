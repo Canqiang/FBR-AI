{
 "cells": [
  {
   "cell_type": "code",
   "id": "initial_id",
   "metadata": {
    "collapsed": true,
    "ExecuteTime": {
     "end_time": "2025-07-29T09:59:09.113638Z",
     "start_time": "2025-07-29T09:59:09.100576Z"
    }
   },
   "source": [
    "from datetime import datetime\n",
    "\n",
    "import pytest\n",
    "from unittest.mock import Mock, patch\n",
    "from src.llm.azure_client import AzureOpenAIClient\n",
    "from src.llm.agents import AIGrowthAgent\n",
    "from src.llm.chains import AnalysisChains\n",
    "import pandas as pd\n",
    "\n",
    "class TestAzureOpenAIClient:\n",
    "    \"\"\"测试Azure OpenAI客户端\"\"\"\n",
    "\n",
    "    @patch('src.llm.azure_client.get_settings')\n",
    "    def test_client_initialization(self, mock_settings):\n",
    "        \"\"\"测试客户端初始化\"\"\"\n",
    "        # 模拟配置\n",
    "        mock_settings.return_value.azure_openai = Mock(\n",
    "            api_key='test-key',\n",
    "            endpoint='https://test.openai.azure.com/',\n",
    "            deployment='gpt-4',\n",
    "            api_version='2024-02-15-preview'\n",
    "        )\n",
    "\n",
    "        # 创建客户端\n",
    "        client = AzureOpenAIClient(temperature=0.5)\n",
    "\n",
    "        # 验证属性\n",
    "        assert client.temperature == 0.5\n",
    "        assert client._llm is None  # 懒加载\n",
    "\n",
    "    @patch('src.llm.azure_client.AzureChatOpenAI')\n",
    "    @patch('src.llm.azure_client.get_settings')\n",
    "    def test_generate_text(self, mock_settings, mock_llm_class):\n",
    "        \"\"\"测试文本生成\"\"\"\n",
    "        # 设置模拟\n",
    "        mock_settings.return_value.azure_openai = Mock(\n",
    "            api_key='test-key',\n",
    "            endpoint='https://test.openai.azure.com/',\n",
    "            deployment='gpt-4',\n",
    "            api_version='2024-02-15-preview'\n",
    "        )\n",
    "\n",
    "        mock_llm = Mock()\n",
    "        mock_llm.invoke.return_value = Mock(content=\"生成的文本\")\n",
    "        mock_llm_class.return_value = mock_llm\n",
    "\n",
    "        # 测试生成\n",
    "        client = AzureOpenAIClient()\n",
    "        result = client.generate(\"测试提示词\")\n",
    "\n",
    "        # 验证调用\n",
    "        assert result == \"生成的文本\"\n",
    "        assert mock_llm.invoke.called\n",
    "\n",
    "\n",
    "class TestAIGrowthAgent:\n",
    "    \"\"\"测试AI增长代理\"\"\"\n",
    "\n",
    "    @patch('src.llm.agents.OrderRepository')\n",
    "    @patch('src.llm.agents.CustomerRepository')\n",
    "    @patch('src.llm.agents.AnalyticsRepository')\n",
    "    @patch('src.llm.agents.AzureOpenAIClient')\n",
    "    def test_agent_initialization(self, mock_llm, mock_analytics, mock_customer, mock_order):\n",
    "        \"\"\"测试代理初始化\"\"\"\n",
    "        agent = AIGrowthAgent()\n",
    "\n",
    "        # 验证工具创建\n",
    "        assert len(agent.tools) > 0\n",
    "        assert agent.memory is not None\n",
    "        assert agent.agent is not None\n",
    "\n",
    "    @patch('src.llm.agents.OrderRepository')\n",
    "    def test_get_sales_summary_tool(self, mock_repo):\n",
    "        \"\"\"测试销售汇总工具\"\"\"\n",
    "        # 模拟数据\n",
    "        mock_repo.return_value.get_daily_sales.return_value = pd.DataFrame({\n",
    "            'date': pd.date_range(end=datetime.now(), periods=7),\n",
    "            'total_revenue': [50000] * 7,\n",
    "            'order_count': [800] * 7,\n",
    "            'new_customer_count': [50] * 7,\n",
    "            'repeat_customer_count': [750] * 7\n",
    "        })\n",
    "\n",
    "        agent = AIGrowthAgent()\n",
    "        result = agent._get_sales_summary(days=7)\n",
    "\n",
    "        # 验证结果格式\n",
    "        assert \"总营收\" in result\n",
    "        assert \"总订单数\" in result\n",
    "        assert \"销售趋势\" in result"
   ],
   "outputs": [],
   "execution_count": 10
  },
  {
   "metadata": {
    "ExecuteTime": {
     "end_time": "2025-07-29T09:59:09.619227Z",
     "start_time": "2025-07-29T09:59:09.615614Z"
    }
   },
   "cell_type": "code",
   "source": "TPS = TestAzureOpenAIClient()",
   "id": "940711fa38f7bccd",
   "outputs": [],
   "execution_count": 11
  },
  {
   "metadata": {
    "ExecuteTime": {
     "end_time": "2025-07-29T09:59:09.954697Z",
     "start_time": "2025-07-29T09:59:09.950201Z"
    }
   },
   "cell_type": "code",
   "source": "TPS.test_generate_text()",
   "id": "50146cd4cf47dc13",
   "outputs": [
    {
     "name": "stderr",
     "output_type": "stream",
     "text": [
      "2025-07-29 17:59:09,951 - src.llm.azure_client - INFO - Azure OpenAI client initialized with deployment: gpt-4\n"
     ]
    }
   ],
   "execution_count": 12
  },
  {
   "metadata": {
    "ExecuteTime": {
     "end_time": "2025-07-29T09:59:13.690165Z",
     "start_time": "2025-07-29T09:59:13.686747Z"
    }
   },
   "cell_type": "code",
   "source": "client = AzureOpenAIClient(temperature=0.5)",
   "id": "8d7139579b857774",
   "outputs": [],
   "execution_count": 13
  },
  {
   "metadata": {
    "ExecuteTime": {
     "end_time": "2025-07-29T09:59:17.355992Z",
     "start_time": "2025-07-29T09:59:15.306732Z"
    }
   },
   "cell_type": "code",
   "source": "client.chat(\"测试提示词\")",
   "id": "3054b1a2582d3162",
   "outputs": [
    {
     "name": "stderr",
     "output_type": "stream",
     "text": [
      "/Users/xander/miniconda3/envs/FBR_AI_Engine/lib/python3.12/site-packages/langchain_community/chat_models/azure_openai.py:174: UserWarning: As of openai>=1.0.0, Azure endpoints should be specified via the `azure_endpoint` param not `openai_api_base` (or alias `base_url`). Updating `openai_api_base` from https://fbrdev-ai.openai.azure.com to https://fbrdev-ai.openai.azure.com/openai.\n",
      "  warnings.warn(\n",
      "/Users/xander/miniconda3/envs/FBR_AI_Engine/lib/python3.12/site-packages/langchain_community/chat_models/azure_openai.py:181: UserWarning: As of openai>=1.0.0, if `deployment_name` (or alias `azure_deployment`) is specified then `openai_api_base` (or alias `base_url`) should not be. Instead use `deployment_name` (or alias `azure_deployment`) and `azure_endpoint`.\n",
      "  warnings.warn(\n",
      "/Users/xander/miniconda3/envs/FBR_AI_Engine/lib/python3.12/site-packages/langchain_community/chat_models/azure_openai.py:189: UserWarning: As of openai>=1.0.0, if `openai_api_base` (or alias `base_url`) is specified it is expected to be of the form https://example-resource.azure.openai.com/openai/deployments/example-deployment. Updating https://fbrdev-ai.openai.azure.com to https://fbrdev-ai.openai.azure.com/openai.\n",
      "  warnings.warn(\n",
      "2025-07-29 17:59:15,326 - src.llm.azure_client - INFO - Azure OpenAI client initialized with deployment: gpt-4o-mini\n",
      "2025-07-29 17:59:17,336 - httpx - INFO - HTTP Request: POST https://fbrdev-ai.openai.azure.com/openai/deployments/gpt-4o-mini/chat/completions?api-version=2024-08-01-preview \"HTTP/1.1 200 OK\"\n"
     ]
    },
    {
     "data": {
      "text/plain": [
       "'当然可以！请问您需要什么样的测试提示词？是用于某个特定的主题、领域，还是需要一些创意写作的灵感？请提供更多信息，我将乐意帮助您！'"
      ]
     },
     "execution_count": 14,
     "metadata": {},
     "output_type": "execute_result"
    }
   ],
   "execution_count": 14
  },
  {
   "metadata": {
    "ExecuteTime": {
     "end_time": "2025-07-29T10:00:59.706403Z",
     "start_time": "2025-07-29T10:00:57.646673Z"
    }
   },
   "cell_type": "code",
   "source": "llm.predict('hello').strip()",
   "id": "54dd7e4c8c345084",
   "outputs": [
    {
     "name": "stderr",
     "output_type": "stream",
     "text": [
      "2025-07-29 18:00:59,701 - httpx - INFO - HTTP Request: POST https://fbrdev-ai.openai.azure.com/openai/deployments/gpt-4o-mini/chat/completions?api-version=2024-08-01-preview \"HTTP/1.1 200 OK\"\n"
     ]
    },
    {
     "data": {
      "text/plain": [
       "'Hello! How can I assist you today?'"
      ]
     },
     "execution_count": 15,
     "metadata": {},
     "output_type": "execute_result"
    }
   ],
   "execution_count": 15
  },
  {
   "metadata": {},
   "cell_type": "code",
   "outputs": [],
   "execution_count": null,
   "source": "",
   "id": "3424454cf38d7a91"
  }
 ],
 "metadata": {
  "kernelspec": {
   "display_name": "Python 3",
   "language": "python",
   "name": "python3"
  },
  "language_info": {
   "codemirror_mode": {
    "name": "ipython",
    "version": 2
   },
   "file_extension": ".py",
   "mimetype": "text/x-python",
   "name": "python",
   "nbconvert_exporter": "python",
   "pygments_lexer": "ipython2",
   "version": "2.7.6"
  }
 },
 "nbformat": 4,
 "nbformat_minor": 5
}
